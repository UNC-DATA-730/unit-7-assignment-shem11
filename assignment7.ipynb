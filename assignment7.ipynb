{
 "cells": [
  {
   "cell_type": "markdown",
   "id": "2408880c-10ee-46da-9cf5-085fe0fe8f45",
   "metadata": {},
   "source": [
    "## Background\n",
    "\n",
    "For this exercise. We will use some data from the [general social\n",
    "survey](http://gss.norc.org/), an annual personal-interview survey\n",
    "conducted in the United States. The survey is designed to monitor\n",
    "changes in both social characteristics and attitudes.\n",
    "\n",
    "For this exercise, the **population** of interest will be **ALL** 2538\n",
    "individuals living in a single neighborhood in 2014.\n",
    "\n",
    "If you get stuck as you are working through this Problem Set, it will\n",
    "likely be helpful to review [Chapter 7 in ModernDive](https://moderndive.com/7-sampling.html), \n",
    "in particular subsections 7.3.1 on “Terminology & notation” and 7.3.2 on “Statistical\n",
    "definitions”. The terminology, notation, and definitions related to\n",
    "sampling are definitely tricky at first; the best method to master them\n",
    "is practice, practice, practice.\n",
    "\n",
    "### Key Symbols:\n",
    "\n",
    "| Symbol          | Population Parameter | Point Estimate |\n",
    "|-----------------|----------------------|----------------|\n",
    "| Number of cases | $N$                  | $n$            |\n",
    "| Proportion      | $p$                  | $\\hat{p}$      |\n",
    "| Standard error  | $SE$                 | $\\widehat{SE}$ |"
   ]
  },
  {
   "cell_type": "markdown",
   "id": "112046bc-8538-4ed8-ad37-8f5d64b91839",
   "metadata": {},
   "source": [
    "## Setup\n",
    "\n",
    "First load the necessary packages:"
   ]
  },
  {
   "cell_type": "code",
   "execution_count": 70,
   "id": "19c1994f-bf82-4302-aec8-10268e46a287",
   "metadata": {
    "tags": []
   },
   "outputs": [],
   "source": [
    "library(ggplot2)\n",
    "library(dplyr)\n",
    "library(forcats)\n",
    "library(moderndive)"
   ]
  },
  {
   "cell_type": "markdown",
   "id": "dacf7cae-815e-4f6b-8fcf-fafa31f87841",
   "metadata": {},
   "source": [
    "The GSS data we will be working with is in the `gss_cat` data frame,\n",
    "which comes built-in with the `forcats` package you just loaded. You can\n",
    "take a `glimpse()` of the `gss_cat` data set like so:"
   ]
  },
  {
   "cell_type": "code",
   "execution_count": 5,
   "id": "1f12d1ea-7e2f-4ee0-a5fd-ad15d894b923",
   "metadata": {
    "tags": []
   },
   "outputs": [
    {
     "name": "stdout",
     "output_type": "stream",
     "text": [
      "Rows: 21,483\n",
      "Columns: 9\n",
      "$ year    \u001b[3m\u001b[90m<int>\u001b[39m\u001b[23m 2000, 2000, 2000, 2000, 2000, 2000, 2000, 2000, 2000, 2000, 20…\n",
      "$ marital \u001b[3m\u001b[90m<fct>\u001b[39m\u001b[23m Never married, Divorced, Widowed, Never married, Divorced, Mar…\n",
      "$ age     \u001b[3m\u001b[90m<int>\u001b[39m\u001b[23m 26, 48, 67, 39, 25, 25, 36, 44, 44, 47, 53, 52, 52, 51, 52, 40…\n",
      "$ race    \u001b[3m\u001b[90m<fct>\u001b[39m\u001b[23m White, White, White, White, White, White, White, White, White,…\n",
      "$ rincome \u001b[3m\u001b[90m<fct>\u001b[39m\u001b[23m $8000 to 9999, $8000 to 9999, Not applicable, Not applicable, …\n",
      "$ partyid \u001b[3m\u001b[90m<fct>\u001b[39m\u001b[23m \"Ind,near rep\", \"Not str republican\", \"Independent\", \"Ind,near…\n",
      "$ relig   \u001b[3m\u001b[90m<fct>\u001b[39m\u001b[23m Protestant, Protestant, Protestant, Orthodox-christian, None, …\n",
      "$ denom   \u001b[3m\u001b[90m<fct>\u001b[39m\u001b[23m \"Southern baptist\", \"Baptist-dk which\", \"No denomination\", \"No…\n",
      "$ tvhours \u001b[3m\u001b[90m<int>\u001b[39m\u001b[23m 12, NA, 2, 4, 1, NA, 3, NA, 0, 3, 2, NA, 1, NA, 1, 7, NA, 3, 3…\n"
     ]
    }
   ],
   "source": [
    "data(gss_cat)\n",
    "glimpse(gss_cat)"
   ]
  },
  {
   "cell_type": "markdown",
   "id": "19e7ee5c-af09-45bb-b4af-f8ebca8ed895",
   "metadata": {},
   "source": [
    "## Exploratory data wrangling\n",
    "\n",
    "This data set includes many years of data, and many variables. To start,\n",
    "we will restrict our analysis to only 2014, and to only the variable\n",
    "indicating the `marital` status of each respondent."
   ]
  },
  {
   "cell_type": "code",
   "execution_count": 6,
   "id": "7e3b88ec-e45d-4a1e-afd6-d6caf40524a1",
   "metadata": {
    "tags": []
   },
   "outputs": [],
   "source": [
    "gss_14 = gss_cat |> \n",
    "  filter(year == 2014) |> \n",
    "  select(marital)"
   ]
  },
  {
   "cell_type": "markdown",
   "id": "d1f087f4-97b6-40b5-9252-20e45ad053fb",
   "metadata": {},
   "source": [
    "The following shows all the unique responses for `marital` status:"
   ]
  },
  {
   "cell_type": "code",
   "execution_count": 7,
   "id": "a405cd55-892d-4417-a9d3-075157810bde",
   "metadata": {
    "tags": []
   },
   "outputs": [
    {
     "data": {
      "text/html": [
       "<table class=\"dataframe\">\n",
       "<caption>A tibble: 6 × 1</caption>\n",
       "<thead>\n",
       "\t<tr><th scope=col>marital</th></tr>\n",
       "\t<tr><th scope=col>&lt;fct&gt;</th></tr>\n",
       "</thead>\n",
       "<tbody>\n",
       "\t<tr><td>Divorced     </td></tr>\n",
       "\t<tr><td>Married      </td></tr>\n",
       "\t<tr><td>Never married</td></tr>\n",
       "\t<tr><td>Separated    </td></tr>\n",
       "\t<tr><td>Widowed      </td></tr>\n",
       "\t<tr><td>No answer    </td></tr>\n",
       "</tbody>\n",
       "</table>\n"
      ],
      "text/latex": [
       "A tibble: 6 × 1\n",
       "\\begin{tabular}{l}\n",
       " marital\\\\\n",
       " <fct>\\\\\n",
       "\\hline\n",
       "\t Divorced     \\\\\n",
       "\t Married      \\\\\n",
       "\t Never married\\\\\n",
       "\t Separated    \\\\\n",
       "\t Widowed      \\\\\n",
       "\t No answer    \\\\\n",
       "\\end{tabular}\n"
      ],
      "text/markdown": [
       "\n",
       "A tibble: 6 × 1\n",
       "\n",
       "| marital &lt;fct&gt; |\n",
       "|---|\n",
       "| Divorced      |\n",
       "| Married       |\n",
       "| Never married |\n",
       "| Separated     |\n",
       "| Widowed       |\n",
       "| No answer     |\n",
       "\n"
      ],
      "text/plain": [
       "  marital      \n",
       "1 Divorced     \n",
       "2 Married      \n",
       "3 Never married\n",
       "4 Separated    \n",
       "5 Widowed      \n",
       "6 No answer    "
      ]
     },
     "metadata": {},
     "output_type": "display_data"
    }
   ],
   "source": [
    "gss_14 |>\n",
    "  distinct(marital) "
   ]
  },
  {
   "cell_type": "markdown",
   "id": "5050ae5d-5524-457b-8bb8-fd3728eb41b5",
   "metadata": {},
   "source": [
    "## Setting a seed for your computer’s Random Number Generator\n",
    "\n",
    "In this problem set, will take some random samples of data using R. In\n",
    "order to make sure R takes the same random sample every time you run\n",
    "your code (so you can reproduce your work), you can do what is called\n",
    "“setting a seed”. Do this in any code chunk where you take a random\n",
    "sample! Otherwise, the answers you write down might accidentally become\n",
    "out of sync with the output of your code when your knit your document!\n",
    "\n",
    "You can control your computer’s random number generator by providing a\n",
    "number to using the `set.seed` function. Any number will do - in the\n",
    "example below, we use 45 as our seed value."
   ]
  },
  {
   "cell_type": "code",
   "execution_count": 8,
   "id": "192bc66f-c823-4407-ab13-ee641760ef6a",
   "metadata": {
    "tags": []
   },
   "outputs": [],
   "source": [
    "set.seed(45)"
   ]
  },
  {
   "cell_type": "markdown",
   "id": "99e3804b-b39c-4bbc-8a8b-8690bc2987dd",
   "metadata": {},
   "source": [
    "## The true population proportion $p$ of divorced people\n",
    "\n",
    "Again, for this exercise, the **population** of interest will be **ALL**\n",
    "2,538 individuals living in this single neighborhood in 2014. Since we\n",
    "have data on **ALL** 2538 people living in the neighborhood, we can\n",
    "compute the **exact population proportion $p$ of divorced people\n",
    "directly** using **ALL** the data:"
   ]
  },
  {
   "cell_type": "code",
   "execution_count": 9,
   "id": "cf8d66d6-215c-4aef-a5e5-7a7468190fcf",
   "metadata": {
    "tags": []
   },
   "outputs": [
    {
     "data": {
      "text/html": [
       "<table class=\"dataframe\">\n",
       "<caption>A tibble: 1 × 3</caption>\n",
       "<thead>\n",
       "\t<tr><th scope=col>divorced</th><th scope=col>N</th><th scope=col>p</th></tr>\n",
       "\t<tr><th scope=col>&lt;int&gt;</th><th scope=col>&lt;int&gt;</th><th scope=col>&lt;dbl&gt;</th></tr>\n",
       "</thead>\n",
       "<tbody>\n",
       "\t<tr><td>411</td><td>2538</td><td>0.1619385</td></tr>\n",
       "</tbody>\n",
       "</table>\n"
      ],
      "text/latex": [
       "A tibble: 1 × 3\n",
       "\\begin{tabular}{lll}\n",
       " divorced & N & p\\\\\n",
       " <int> & <int> & <dbl>\\\\\n",
       "\\hline\n",
       "\t 411 & 2538 & 0.1619385\\\\\n",
       "\\end{tabular}\n"
      ],
      "text/markdown": [
       "\n",
       "A tibble: 1 × 3\n",
       "\n",
       "| divorced &lt;int&gt; | N &lt;int&gt; | p &lt;dbl&gt; |\n",
       "|---|---|---|\n",
       "| 411 | 2538 | 0.1619385 |\n",
       "\n"
      ],
      "text/plain": [
       "  divorced N    p        \n",
       "1 411      2538 0.1619385"
      ]
     },
     "metadata": {},
     "output_type": "display_data"
    }
   ],
   "source": [
    "gss_14 %>% \n",
    "  summarize(divorced = sum(marital == \"Divorced\"), \n",
    "            N = n()) |>\n",
    "  mutate(p = divorced / N)"
   ]
  },
  {
   "cell_type": "markdown",
   "id": "83ae2108-56bd-412d-85c0-680afab8269c",
   "metadata": {},
   "source": [
    "> Note that we used $N$ (the size of the full population, 2,538 people)\n",
    "> and computed $p$ (not $\\hat{p}$ ). And, no inference from sample to\n",
    "> the population is needed. This is because we’re working with the\n",
    "> **entire population** of interest. We do not need to *estimate* the\n",
    "> true proportion, or infer something about the true population\n",
    "> proportion of divorced people in this neighborhood in 2014, because in\n",
    "> this case, we can compute it directly (just like counting all red\n",
    "> balls in the bowl). Thus, we know that $p$ is exactly 0.16. In other\n",
    "> words, this situation is not a realistic reflection of a real life\n",
    "> problem.\n",
    "\n",
    "For the rest of this problem set, we will be *simulating* the act of\n",
    "sampling from this neighborhood population to understand and study how\n",
    "factors like sample size influence **sampling variation**.\n",
    "\n",
    "## Demo: Sampling 50 people in the neighborhood\n",
    "\n",
    "### Estimating $\\hat{p}$ from a single sample\n",
    "\n",
    "We are first going to use random sampling to **ESTIMATE** the true\n",
    "**population** proportion $p$ of the neighborhood that are divorced with\n",
    "only a **sample** of 50 people.\n",
    "\n",
    "> This will represent a situation of only having the resources to knock\n",
    "> on 50 doors to get responses from people in this neighborhood!"
   ]
  },
  {
   "cell_type": "code",
   "execution_count": 7,
   "id": "1a5a946e-8495-4267-9c79-bea0088a6143",
   "metadata": {
    "tags": []
   },
   "outputs": [
    {
     "data": {
      "text/html": [
       "<table class=\"dataframe\">\n",
       "<caption>A grouped_df: 4 × 3</caption>\n",
       "<thead>\n",
       "\t<tr><th scope=col>replicate</th><th scope=col>marital</th><th scope=col>n</th></tr>\n",
       "\t<tr><th scope=col>&lt;int&gt;</th><th scope=col>&lt;fct&gt;</th><th scope=col>&lt;int&gt;</th></tr>\n",
       "</thead>\n",
       "<tbody>\n",
       "\t<tr><td>1</td><td>Never married</td><td>13</td></tr>\n",
       "\t<tr><td>1</td><td>Divorced     </td><td> 8</td></tr>\n",
       "\t<tr><td>1</td><td>Widowed      </td><td> 6</td></tr>\n",
       "\t<tr><td>1</td><td>Married      </td><td>23</td></tr>\n",
       "</tbody>\n",
       "</table>\n"
      ],
      "text/latex": [
       "A grouped\\_df: 4 × 3\n",
       "\\begin{tabular}{lll}\n",
       " replicate & marital & n\\\\\n",
       " <int> & <fct> & <int>\\\\\n",
       "\\hline\n",
       "\t 1 & Never married & 13\\\\\n",
       "\t 1 & Divorced      &  8\\\\\n",
       "\t 1 & Widowed       &  6\\\\\n",
       "\t 1 & Married       & 23\\\\\n",
       "\\end{tabular}\n"
      ],
      "text/markdown": [
       "\n",
       "A grouped_df: 4 × 3\n",
       "\n",
       "| replicate &lt;int&gt; | marital &lt;fct&gt; | n &lt;int&gt; |\n",
       "|---|---|---|\n",
       "| 1 | Never married | 13 |\n",
       "| 1 | Divorced      |  8 |\n",
       "| 1 | Widowed       |  6 |\n",
       "| 1 | Married       | 23 |\n",
       "\n"
      ],
      "text/plain": [
       "  replicate marital       n \n",
       "1 1         Never married 13\n",
       "2 1         Divorced       8\n",
       "3 1         Widowed        6\n",
       "4 1         Married       23"
      ]
     },
     "metadata": {},
     "output_type": "display_data"
    }
   ],
   "source": [
    "set.seed(42)\n",
    "\n",
    "n50_1rep = gss_14 |> \n",
    "  rep_sample_n(size = 50, reps = 1)\n",
    "\n",
    "n50_1rep |> count(marital)"
   ]
  },
  {
   "cell_type": "markdown",
   "id": "b77cb8ae-3c4e-43cc-ba6e-c68f9558bb8e",
   "metadata": {},
   "source": [
    "Remember, you can set the seed to whatever value you like.\n",
    "\n",
    "Next, let’s calculate the **sample proportion** $\\hat{p}$ of people who\n",
    "identified as `Divorced` in our sample of 50 people."
   ]
  },
  {
   "cell_type": "code",
   "execution_count": 8,
   "id": "08c79aa8-09ea-4cf9-a5d9-06f96f370589",
   "metadata": {
    "tags": []
   },
   "outputs": [
    {
     "data": {
      "text/html": [
       "<table class=\"dataframe\">\n",
       "<caption>A tibble: 1 × 4</caption>\n",
       "<thead>\n",
       "\t<tr><th scope=col>replicate</th><th scope=col>divorce_count</th><th scope=col>n</th><th scope=col>p_hat</th></tr>\n",
       "\t<tr><th scope=col>&lt;int&gt;</th><th scope=col>&lt;int&gt;</th><th scope=col>&lt;int&gt;</th><th scope=col>&lt;dbl&gt;</th></tr>\n",
       "</thead>\n",
       "<tbody>\n",
       "\t<tr><td>1</td><td>8</td><td>50</td><td>0.16</td></tr>\n",
       "</tbody>\n",
       "</table>\n"
      ],
      "text/latex": [
       "A tibble: 1 × 4\n",
       "\\begin{tabular}{llll}\n",
       " replicate & divorce\\_count & n & p\\_hat\\\\\n",
       " <int> & <int> & <int> & <dbl>\\\\\n",
       "\\hline\n",
       "\t 1 & 8 & 50 & 0.16\\\\\n",
       "\\end{tabular}\n"
      ],
      "text/markdown": [
       "\n",
       "A tibble: 1 × 4\n",
       "\n",
       "| replicate &lt;int&gt; | divorce_count &lt;int&gt; | n &lt;int&gt; | p_hat &lt;dbl&gt; |\n",
       "|---|---|---|---|\n",
       "| 1 | 8 | 50 | 0.16 |\n",
       "\n"
      ],
      "text/plain": [
       "  replicate divorce_count n  p_hat\n",
       "1 1         8             50 0.16 "
      ]
     },
     "metadata": {},
     "output_type": "display_data"
    }
   ],
   "source": [
    "n50_1rep |> \n",
    "  summarize(divorce_count = sum(marital == \"Divorced\"), \n",
    "            n = n()) |> \n",
    "  mutate(p_hat = divorce_count/ n)"
   ]
  },
  {
   "cell_type": "markdown",
   "id": "79b01224-843c-4b5c-80d0-204121bb68d9",
   "metadata": {},
   "source": [
    "This sample proportion $\\hat{p}$ is an **ESTIMATE**; it’s our **best\n",
    "guess** of what the **true population** proportion $p$ of `Divorced`\n",
    "people is in this neighborhood, based on a sample of only 50 people. It\n",
    "is reasonably close to the true population proportion $p = 0.16$ we\n",
    "calculated from the full population.\n",
    "\n",
    "# Question 1.a)\n",
    "\n",
    "Modify the code below to take 3 samples of 50 people instead of just 1\n",
    "sample, and then compute an estimate of the proportion of Divorced\n",
    "people in the entire population from each sample individually.\n",
    "\n",
    "(**Hint:** Use `group_by` followed by the same `summarize` code as above.)"
   ]
  },
  {
   "cell_type": "code",
   "execution_count": 36,
   "id": "e4c673b0-bf49-4e23-a77e-bcc3437ef71b",
   "metadata": {
    "tags": []
   },
   "outputs": [
    {
     "data": {
      "text/html": [
       "<table class=\"dataframe\">\n",
       "<caption>A tibble: 3 × 4</caption>\n",
       "<thead>\n",
       "\t<tr><th scope=col>replicate</th><th scope=col>divorce_count</th><th scope=col>n</th><th scope=col>p_hat</th></tr>\n",
       "\t<tr><th scope=col>&lt;int&gt;</th><th scope=col>&lt;int&gt;</th><th scope=col>&lt;int&gt;</th><th scope=col>&lt;dbl&gt;</th></tr>\n",
       "</thead>\n",
       "<tbody>\n",
       "\t<tr><td>1</td><td>6</td><td>50</td><td>0.12</td></tr>\n",
       "\t<tr><td>2</td><td>9</td><td>50</td><td>0.18</td></tr>\n",
       "\t<tr><td>3</td><td>8</td><td>50</td><td>0.16</td></tr>\n",
       "</tbody>\n",
       "</table>\n"
      ],
      "text/latex": [
       "A tibble: 3 × 4\n",
       "\\begin{tabular}{llll}\n",
       " replicate & divorce\\_count & n & p\\_hat\\\\\n",
       " <int> & <int> & <int> & <dbl>\\\\\n",
       "\\hline\n",
       "\t 1 & 6 & 50 & 0.12\\\\\n",
       "\t 2 & 9 & 50 & 0.18\\\\\n",
       "\t 3 & 8 & 50 & 0.16\\\\\n",
       "\\end{tabular}\n"
      ],
      "text/markdown": [
       "\n",
       "A tibble: 3 × 4\n",
       "\n",
       "| replicate &lt;int&gt; | divorce_count &lt;int&gt; | n &lt;int&gt; | p_hat &lt;dbl&gt; |\n",
       "|---|---|---|---|\n",
       "| 1 | 6 | 50 | 0.12 |\n",
       "| 2 | 9 | 50 | 0.18 |\n",
       "| 3 | 8 | 50 | 0.16 |\n",
       "\n"
      ],
      "text/plain": [
       "  replicate divorce_count n  p_hat\n",
       "1 1         6             50 0.12 \n",
       "2 2         9             50 0.18 \n",
       "3 3         8             50 0.16 "
      ]
     },
     "metadata": {},
     "output_type": "display_data"
    }
   ],
   "source": [
    "set.seed(18)\n",
    "\n",
    "n50_3rep = gss_14 |>\n",
    "  rep_sample_n(size = 50, reps = 3)\n",
    "\n",
    "n50_3rep |> group_by(replicate) |> summarize(divorce_count = sum(marital == \"Divorced\"), n = n()) |> \n",
    "  mutate(p_hat = divorce_count/ n)\n"
   ]
  },
  {
   "cell_type": "markdown",
   "id": "879c3a54-fc7b-4792-871c-12859f5da89b",
   "metadata": {},
   "source": [
    "## Question 1.b)\n",
    "\n",
    "How do the $\\hat{p}$ estimates from different samples compare? Why was\n",
    "your estimate different each time?\n",
    "\n",
    "**Answer:**"
   ]
  },
  {
   "cell_type": "markdown",
   "id": "ce785a66-625d-4284-a1f3-5426ce8e636d",
   "metadata": {},
   "source": [
    "\n",
    "The p-hat estimates for each sample are still close in value, and the average p-hat accross the samples is about .15. The estimate is different each time due to the randomizatoin of point selection via seeding.\n"
   ]
  },
  {
   "cell_type": "markdown",
   "id": "7c5ee0f8-33d9-46f9-9d53-5e4c420810cf",
   "metadata": {},
   "source": [
    "### Estimating $\\widehat{SE}$ from a single sample\n",
    "\n",
    "Typically we only have the opportunity to collect **one sample** for our\n",
    "study, and so we have to use the amount of variability in our **single\n",
    "sample** as an estimate of the amount of variability we might expect in\n",
    "our results if we had taken a random sample of 50 different people. The\n",
    "$\\widehat{SE}_{\\hat{p}}$ serves as an **ESTIMATE** of **sampling\n",
    "variability** if you only have a **single sample**. The formula for\n",
    "estimating the standard error of $\\hat{p}$ is the following:\n",
    "\n",
    "$$\\widehat{SE}_{\\hat{p}}  \\approx  \\sqrt{\\frac{\\hat{p} \\times (1-\\hat{p})}{n}}$$\n",
    "\n",
    "> Note that we use $n$ to represent the size of the sample and we that\n",
    "> use $\\hat{p}$ to represent the proportion of divorced people because\n",
    "> we are ESTIMATING a proportion based on only a sample. Likewise, the\n",
    "> SE “wears a hat” because we are ESTIMATING the true standard error\n",
    "> based on a sample.\n",
    "\n",
    "The standard error of $\\hat{p}$ can be estimated in R like so:"
   ]
  },
  {
   "cell_type": "code",
   "execution_count": 69,
   "id": "3ced8893-9e92-4b29-912d-98977cb0fc0b",
   "metadata": {
    "tags": []
   },
   "outputs": [
    {
     "ename": "ERROR",
     "evalue": "Error in eval(expr, envir, enclos): object 'n50_1rep' not found\n",
     "output_type": "error",
     "traceback": [
      "Error in eval(expr, envir, enclos): object 'n50_1rep' not found\nTraceback:\n",
      "1. mutate(summarize(n50_1rep, divorce_count = sum(marital == \"Divorced\"), \n .     n = n()), p_hat = divorce_count/n, se_hat = sqrt(p_hat * \n .     (1 - p_hat)/n))",
      "2. summarize(n50_1rep, divorce_count = sum(marital == \"Divorced\"), \n .     n = n())"
     ]
    }
   ],
   "source": [
    "n50_1rep |> \n",
    "  summarize(divorce_count = sum(marital == \"Divorced\"), \n",
    "            n = n()) |> \n",
    "  mutate(p_hat = divorce_count/ n, \n",
    "         se_hat = sqrt(p_hat * (1 - p_hat) / n))"
   ]
  },
  {
   "cell_type": "markdown",
   "id": "3f73f9bc-6f2d-4f72-b30c-38112ffcddd4",
   "metadata": {},
   "source": [
    "## Demo: Generating a sampling distribution of $\\hat{p}$\n",
    "\n",
    "If you ran the code chunk that takes a random sample of 50 people a\n",
    "thousand more times, and wrote down every $\\hat{p}$ you got, you would\n",
    "have constructed a “sampling distribution” of the proportion of divorced\n",
    "people.\n",
    "\n",
    "> A sampling distribution shows every (or nearly every!) possible value\n",
    "> a point estimate can take on, along with how likely each value is to\n",
    "> be observed, for samples **of a given size** from a population.\n",
    "\n",
    "### Sampling distribution of $\\hat{p}$ for n = 50\n",
    "\n",
    "Instead of running the sampling code chunk for n = 50 over and over, we\n",
    "can “collect” 1000 samples of n = 50 really easily in R. The following\n",
    "code chunk takes 1000 **different** samples of n = 50 and stores them in\n",
    "the data frame `n50_1000rep`:"
   ]
  },
  {
   "cell_type": "code",
   "execution_count": 39,
   "id": "944330fb-e6f8-4675-b57d-c9089dbab2ff",
   "metadata": {
    "tags": []
   },
   "outputs": [
    {
     "name": "stdout",
     "output_type": "stream",
     "text": [
      "Rows: 50,000\n",
      "Columns: 2\n",
      "Groups: replicate [1,000]\n",
      "$ replicate \u001b[3m\u001b[90m<int>\u001b[39m\u001b[23m 1, 1, 1, 1, 1, 1, 1, 1, 1, 1, 1, 1, 1, 1, 1, 1, 1, 1, 1, 1, …\n",
      "$ marital   \u001b[3m\u001b[90m<fct>\u001b[39m\u001b[23m Divorced, Never married, Never married, Widowed, Married, Wi…\n"
     ]
    }
   ],
   "source": [
    "set.seed(19)\n",
    "\n",
    "n50_1000rep = gss_14 |> \n",
    "  rep_sample_n(size = 50, reps = 1000) |> glimpse()"
   ]
  },
  {
   "cell_type": "markdown",
   "id": "c1f1bdd3-4ce5-43df-8b1c-ab8f3b8e014a",
   "metadata": {},
   "source": [
    "Be sure to look at `n50_rep1000` using `glimpse` to get a sense of\n",
    "these 1000 samples look like.\n",
    "\n",
    "## Question 2.a)\n",
    "\n",
    "What is the name of the column in the `n50_1000rep` data frame that\n",
    "identifies which of the 1000 samples an observation belongs to?\n",
    "\n",
    "**Answer:**"
   ]
  },
  {
   "cell_type": "markdown",
   "id": "39cdc390-ae70-40dd-ac5a-c4be68607af8",
   "metadata": {
    "tags": []
   },
   "source": [
    "\n",
    "replicate\n"
   ]
  },
  {
   "cell_type": "markdown",
   "id": "8888c021-c788-40ee-87cd-c7a5eca8a43c",
   "metadata": {},
   "source": [
    "## Question 2.b)\n",
    "\n",
    "What is the sample size n for each of the 1000 samples we took?\n",
    "(i.e. how many people are sampled each time)?\n",
    "\n",
    "**Answer:**"
   ]
  },
  {
   "cell_type": "markdown",
   "id": "09b63f74-606b-4a6b-905d-74c64cf1a67e",
   "metadata": {},
   "source": [
    "\n",
    "The sample size is 50.\n"
   ]
  },
  {
   "cell_type": "markdown",
   "id": "a3bf2518-3037-46fe-a82a-1757c6c0fef3",
   "metadata": {},
   "source": [
    "The following code chunk calculates the sample proportion $\\hat{p}$ of\n",
    "people who reported they were divorced for each of the **1000 samples**"
   ]
  },
  {
   "cell_type": "code",
   "execution_count": 41,
   "id": "65d434d3-0332-45cf-a292-9171bca61da2",
   "metadata": {
    "tags": []
   },
   "outputs": [],
   "source": [
    "p_hat_n50_1000rep = n50_1000rep |> \n",
    "  group_by(replicate) |> \n",
    "  summarize(divorce_count = sum(marital == \"Divorced\"), \n",
    "            n = n()) |> \n",
    "  mutate(p_hat = divorce_count / n)"
   ]
  },
  {
   "cell_type": "markdown",
   "id": "7c435150-f6a2-42de-b453-2b21e3dcdf19",
   "metadata": {},
   "source": [
    "Take a look at the first five rows of the results:"
   ]
  },
  {
   "cell_type": "code",
   "execution_count": 42,
   "id": "6e468de8-74d5-4496-9161-5b9ba022bf25",
   "metadata": {
    "tags": []
   },
   "outputs": [
    {
     "data": {
      "text/html": [
       "<table class=\"dataframe\">\n",
       "<caption>A tibble: 5 × 4</caption>\n",
       "<thead>\n",
       "\t<tr><th scope=col>replicate</th><th scope=col>divorce_count</th><th scope=col>n</th><th scope=col>p_hat</th></tr>\n",
       "\t<tr><th scope=col>&lt;int&gt;</th><th scope=col>&lt;int&gt;</th><th scope=col>&lt;int&gt;</th><th scope=col>&lt;dbl&gt;</th></tr>\n",
       "</thead>\n",
       "<tbody>\n",
       "\t<tr><td>1</td><td> 4</td><td>50</td><td>0.08</td></tr>\n",
       "\t<tr><td>2</td><td> 5</td><td>50</td><td>0.10</td></tr>\n",
       "\t<tr><td>3</td><td> 8</td><td>50</td><td>0.16</td></tr>\n",
       "\t<tr><td>4</td><td> 9</td><td>50</td><td>0.18</td></tr>\n",
       "\t<tr><td>5</td><td>10</td><td>50</td><td>0.20</td></tr>\n",
       "</tbody>\n",
       "</table>\n"
      ],
      "text/latex": [
       "A tibble: 5 × 4\n",
       "\\begin{tabular}{llll}\n",
       " replicate & divorce\\_count & n & p\\_hat\\\\\n",
       " <int> & <int> & <int> & <dbl>\\\\\n",
       "\\hline\n",
       "\t 1 &  4 & 50 & 0.08\\\\\n",
       "\t 2 &  5 & 50 & 0.10\\\\\n",
       "\t 3 &  8 & 50 & 0.16\\\\\n",
       "\t 4 &  9 & 50 & 0.18\\\\\n",
       "\t 5 & 10 & 50 & 0.20\\\\\n",
       "\\end{tabular}\n"
      ],
      "text/markdown": [
       "\n",
       "A tibble: 5 × 4\n",
       "\n",
       "| replicate &lt;int&gt; | divorce_count &lt;int&gt; | n &lt;int&gt; | p_hat &lt;dbl&gt; |\n",
       "|---|---|---|---|\n",
       "| 1 |  4 | 50 | 0.08 |\n",
       "| 2 |  5 | 50 | 0.10 |\n",
       "| 3 |  8 | 50 | 0.16 |\n",
       "| 4 |  9 | 50 | 0.18 |\n",
       "| 5 | 10 | 50 | 0.20 |\n",
       "\n"
      ],
      "text/plain": [
       "  replicate divorce_count n  p_hat\n",
       "1 1          4            50 0.08 \n",
       "2 2          5            50 0.10 \n",
       "3 3          8            50 0.16 \n",
       "4 4          9            50 0.18 \n",
       "5 5         10            50 0.20 "
      ]
     },
     "metadata": {},
     "output_type": "display_data"
    }
   ],
   "source": [
    "p_hat_n50_1000rep |>\n",
    "  head(5)"
   ]
  },
  {
   "cell_type": "markdown",
   "id": "0ff7f2c5-4920-4d9a-9ef9-5ed064ef5ff4",
   "metadata": {},
   "source": [
    "### Visualizing the sampling distribution of $\\hat{p}$ for n = 50\n",
    "\n",
    "We can plot the **sampling distribution** of these 1000 $\\hat{p}$\n",
    "estimates of divorced respondents with a histogram, like so:"
   ]
  },
  {
   "cell_type": "code",
   "execution_count": 43,
   "id": "dfd8e7c8-b452-4341-be16-c959246e6d92",
   "metadata": {
    "tags": []
   },
   "outputs": [
    {
     "data": {
      "image/png": "[encoded data removed]",
      "text/plain": [
       "plot without title"
      ]
     },
     "metadata": {
      "image/png": {
       "height": 500,
       "width": 625
      }
     },
     "output_type": "display_data"
    }
   ],
   "source": [
    "ggplot(p_hat_n50_1000rep, aes(x = p_hat)) +\n",
    "  geom_histogram(binwidth = 0.02, color = \"black\", fill = \"aquamarine3\", boundary=0) +\n",
    "  labs(x = \"Sample proportion of divorced respondents\", \n",
    "       title = \"Sampling distribution of p-hat based on n = 50\") "
   ]
  },
  {
   "cell_type": "markdown",
   "id": "98983a58-e5a7-40cd-ae2d-3afc3ef94f6a",
   "metadata": {},
   "source": [
    "## Question 3\n",
    "\n",
    "Based on the histogram above, what appeared to be a very common (i.e.,\n",
    "likely) value of $\\hat{p}$? What was a very uncommon (i.e., unlikely)\n",
    "value?\n",
    "\n",
    "**Answer:**"
   ]
  },
  {
   "cell_type": "markdown",
   "id": "2e1dd2d5-d1f6-478b-a544-0616fba08cea",
   "metadata": {},
   "source": [
    "\n",
    "The likely value of p-hat is between .14 and .16. The unlikely value of p-hat is > 0.24\n"
   ]
  },
  {
   "cell_type": "markdown",
   "id": "30b32a95-611e-4c0a-abac-e7b5f7c2b0a5",
   "metadata": {},
   "source": [
    "### Mean and standard error of the sampling distribution of $\\hat{p}$ for n = 50\n",
    "\n",
    "Finally we can estimate the mean of the sampling distribution by\n",
    "calculating the mean of all 1000 $\\hat{p}$ estimates, and the standard\n",
    "error of the sampling distribution by calculating the standard deviation\n",
    "of all 1000 $\\hat{p}$ values like so:"
   ]
  },
  {
   "cell_type": "code",
   "execution_count": 44,
   "id": "19445e9f-03d5-4199-9c79-408d9a5e401d",
   "metadata": {
    "tags": []
   },
   "outputs": [
    {
     "data": {
      "text/html": [
       "<table class=\"dataframe\">\n",
       "<caption>A tibble: 1 × 2</caption>\n",
       "<thead>\n",
       "\t<tr><th scope=col>M_p_hat</th><th scope=col>SE_p_hat</th></tr>\n",
       "\t<tr><th scope=col>&lt;dbl&gt;</th><th scope=col>&lt;dbl&gt;</th></tr>\n",
       "</thead>\n",
       "<tbody>\n",
       "\t<tr><td>0.16198</td><td>0.052215</td></tr>\n",
       "</tbody>\n",
       "</table>\n"
      ],
      "text/latex": [
       "A tibble: 1 × 2\n",
       "\\begin{tabular}{ll}\n",
       " M\\_p\\_hat & SE\\_p\\_hat\\\\\n",
       " <dbl> & <dbl>\\\\\n",
       "\\hline\n",
       "\t 0.16198 & 0.052215\\\\\n",
       "\\end{tabular}\n"
      ],
      "text/markdown": [
       "\n",
       "A tibble: 1 × 2\n",
       "\n",
       "| M_p_hat &lt;dbl&gt; | SE_p_hat &lt;dbl&gt; |\n",
       "|---|---|\n",
       "| 0.16198 | 0.052215 |\n",
       "\n"
      ],
      "text/plain": [
       "  M_p_hat SE_p_hat\n",
       "1 0.16198 0.052215"
      ]
     },
     "metadata": {},
     "output_type": "display_data"
    }
   ],
   "source": [
    "p_hat_n50_1000rep |>\n",
    "  summarize(M_p_hat = mean(p_hat), \n",
    "            SE_p_hat = sd(p_hat))"
   ]
  },
  {
   "cell_type": "markdown",
   "id": "5dbd5d9f-e5b3-4804-b808-501b9a394605",
   "metadata": {},
   "source": [
    "Basically, we treat the 1000 point estimates of the population\n",
    "proportion just like any other sample of numbers.\n",
    "\n",
    "## Question 4\n",
    "\n",
    "How do the population proportion and standard error estimates computed\n",
    "by taking the mean and standard deviation of the 1000 simulated sample\n",
    "proportions compare to the estimates of $\\hat{p}$ and $\\widehat{SE}$\n",
    "based on your **single** sample of 50 people earlier in this Problem\n",
    "Set?\n",
    "\n",
    "**Answer:**"
   ]
  },
  {
   "cell_type": "markdown",
   "id": "b5ebb9e2-a812-42dc-8d7a-2d5e6e5f4b79",
   "metadata": {},
   "source": [
    "\n",
    "I would say that they are pretty comparable. Earlier in the problem set for a 50 person sample the p-hat and se-hat were abour .16 and .052 respectively, which is about the same for 1000 person samples. \n"
   ]
  },
  {
   "cell_type": "markdown",
   "id": "100c59ee-bda7-47aa-b066-2399a1149af0",
   "metadata": {},
   "source": [
    "## Question 5.a)\n",
    "\n",
    "Use the `rep_sample_n` function to collect 1000 virtual samples of size\n",
    "*n* = 15. **BE SURE TO NAME YOUR SAMPLE SOMETHING NEW, TO ENSURE YOU CAN\n",
    "DISTINGUISH IT FROM THE n = 50 SAMPLE ABOVE!**\n",
    "\n",
    "**Answer:**"
   ]
  },
  {
   "cell_type": "code",
   "execution_count": 11,
   "id": "62efafa8-83be-4c82-910f-014b3fe2529c",
   "metadata": {},
   "outputs": [
    {
     "name": "stdout",
     "output_type": "stream",
     "text": [
      "Rows: 15,000\n",
      "Columns: 2\n",
      "Groups: replicate [1,000]\n",
      "$ replicate \u001b[3m\u001b[90m<int>\u001b[39m\u001b[23m 1, 1, 1, 1, 1, 1, 1, 1, 1, 1, 1, 1, 1, 1, 1, 2, 2, 2, 2, 2, …\n",
      "$ marital   \u001b[3m\u001b[90m<fct>\u001b[39m\u001b[23m Never married, Widowed, Married, Never married, Never marrie…\n"
     ]
    }
   ],
   "source": [
    "\n",
    "n15r1000 = gss_14 |> rep_sample_n(size = 15, reps = 1000) |> glimpse()\n"
   ]
  },
  {
   "cell_type": "code",
   "execution_count": 12,
   "id": "99658bf7-f1b4-4ab8-81a8-a95a36edc95b",
   "metadata": {},
   "outputs": [],
   "source": [
    "set.seed(910)"
   ]
  },
  {
   "cell_type": "markdown",
   "id": "a9e423b8-ce6c-4b9d-bcd4-9f099741010e",
   "metadata": {},
   "source": [
    "## Question 5.b)\n",
    "\n",
    "Calculate sample proportion $\\hat{p}$ of people who reported they were\n",
    "`Divorced` for each replicate of your n = 15 sampling\n",
    "\n",
    "**Answer:**"
   ]
  },
  {
   "cell_type": "code",
   "execution_count": 15,
   "id": "c11e24b5-500b-4f96-9d7f-bf26ea9dee9f",
   "metadata": {},
   "outputs": [
    {
     "name": "stdout",
     "output_type": "stream",
     "text": [
      "Rows: 1,000\n",
      "Columns: 4\n",
      "$ replicate     \u001b[3m\u001b[90m<int>\u001b[39m\u001b[23m 1, 2, 3, 4, 5, 6, 7, 8, 9, 10, 11, 12, 13, 14, 15, 16, 1…\n",
      "$ divorce_count \u001b[3m\u001b[90m<int>\u001b[39m\u001b[23m 1, 2, 1, 1, 2, 2, 2, 1, 3, 4, 1, 2, 3, 2, 4, 3, 1, 3, 1,…\n",
      "$ n             \u001b[3m\u001b[90m<int>\u001b[39m\u001b[23m 15, 15, 15, 15, 15, 15, 15, 15, 15, 15, 15, 15, 15, 15, …\n",
      "$ p_hat         \u001b[3m\u001b[90m<dbl>\u001b[39m\u001b[23m 0.06666667, 0.13333333, 0.06666667, 0.06666667, 0.133333…\n"
     ]
    }
   ],
   "source": [
    "\n",
    "p_hatn15r1000 = n15r1000|> \n",
    "  group_by(replicate) |> \n",
    "  summarize(divorce_count = sum(marital == \"Divorced\"), \n",
    "            n = n()) |> \n",
    "  mutate(p_hat = divorce_count / n) \n",
    "\n",
    "\n",
    "p_hatn15r1000 |> glimpse()"
   ]
  },
  {
   "cell_type": "markdown",
   "id": "7a97a64e-ed20-4f53-98ee-8502ff8cb090",
   "metadata": {},
   "source": [
    "## Question 5.c)\n",
    "\n",
    "Visualize the sampling distribution of $\\hat{p}$ from your n = 15\n",
    "sampling with a histogram\n",
    "\n",
    "**Answer:**"
   ]
  },
  {
   "cell_type": "code",
   "execution_count": 60,
   "id": "aaabe9ec-1446-48be-ba85-8c0943fd8db5",
   "metadata": {},
   "outputs": [
    {
     "data": {
      "image/png": "[encoded data removed]",
      "text/plain": [
       "plot without title"
      ]
     },
     "metadata": {
      "image/png": {
       "height": 500,
       "width": 625
      }
     },
     "output_type": "display_data"
    }
   ],
   "source": [
    "\n",
    "\n",
    "ggplot(p_hatn15r1000, aes(x = p_hat)) +\n",
    "  geom_histogram(binwidth = 0.05, color = \"black\", fill = \"aquamarine3\", boundary=0) +\n",
    "  labs(x = \"Sample proportion of divorced respondents\", \n",
    "       title = \"Sampling distribution of p-hat based on n = 50\") \n"
   ]
  },
  {
   "cell_type": "markdown",
   "id": "46821e96-7c56-4536-bc6e-de130723a53c",
   "metadata": {},
   "source": [
    "## Question 5.d)\n",
    "\n",
    "Calculate the mean of the n = 15 sampling distribution, and the standard\n",
    "error of the n = 15 sampling distribution\n",
    "\n",
    "**Answer:**"
   ]
  },
  {
   "cell_type": "code",
   "execution_count": 46,
   "id": "624dab5c-564f-4ca2-97b7-919beb4ed01c",
   "metadata": {},
   "outputs": [
    {
     "data": {
      "text/html": [
       "<table class=\"dataframe\">\n",
       "<caption>A tibble: 1 × 2</caption>\n",
       "<thead>\n",
       "\t<tr><th scope=col>M_p_hat</th><th scope=col>SE_p_hat</th></tr>\n",
       "\t<tr><th scope=col>&lt;dbl&gt;</th><th scope=col>&lt;dbl&gt;</th></tr>\n",
       "</thead>\n",
       "<tbody>\n",
       "\t<tr><td>0.1578</td><td>0.09409932</td></tr>\n",
       "</tbody>\n",
       "</table>\n"
      ],
      "text/latex": [
       "A tibble: 1 × 2\n",
       "\\begin{tabular}{ll}\n",
       " M\\_p\\_hat & SE\\_p\\_hat\\\\\n",
       " <dbl> & <dbl>\\\\\n",
       "\\hline\n",
       "\t 0.1578 & 0.09409932\\\\\n",
       "\\end{tabular}\n"
      ],
      "text/markdown": [
       "\n",
       "A tibble: 1 × 2\n",
       "\n",
       "| M_p_hat &lt;dbl&gt; | SE_p_hat &lt;dbl&gt; |\n",
       "|---|---|\n",
       "| 0.1578 | 0.09409932 |\n",
       "\n"
      ],
      "text/plain": [
       "  M_p_hat SE_p_hat  \n",
       "1 0.1578  0.09409932"
      ]
     },
     "metadata": {},
     "output_type": "display_data"
    }
   ],
   "source": [
    "\n",
    "p_hatn15r1000 |> summarize(M_p_hat = mean(p_hat), \n",
    "            SE_p_hat = sd(p_hat))\n"
   ]
  },
  {
   "cell_type": "markdown",
   "id": "5e347575-c135-4039-ba14-f3ca4e0a48c5",
   "metadata": {},
   "source": [
    "## Question 6.a)\n",
    "\n",
    "How does the standard error of the n= 15 sampling distribution compare\n",
    "to the standard error of the n = 50 sampling distribution?\n",
    "\n",
    "**Answer:**"
   ]
  },
  {
   "cell_type": "markdown",
   "id": "68836e12-8c6d-4c95-ab43-4c4f01a8c0cc",
   "metadata": {},
   "source": [
    "\n",
    "While the mean se-hat is significantly larger, the mean p-hat value remains stable. \n"
   ]
  },
  {
   "cell_type": "markdown",
   "id": "5a04060d-2689-4e61-921b-6df469ffc553",
   "metadata": {},
   "source": [
    "## Question 6.b)\n",
    "\n",
    "Explain any observed differences from Question 6a\n",
    "\n",
    "**Answer:**"
   ]
  },
  {
   "cell_type": "markdown",
   "id": "d5c38382-43df-48e5-a34b-af2b37b6394a",
   "metadata": {},
   "source": [
    "\n",
    "The difference in the mean se-hat can likely be attributed to smaller sampling size, which may have caused greater variance amoungst samples as a result.\n"
   ]
  },
  {
   "cell_type": "markdown",
   "id": "e438be0f-020a-454f-a0df-0faf39f37acc",
   "metadata": {},
   "source": [
    "## Question 7.a)\n",
    "\n",
    "Use the `rep_sample_n` function to collect 1000 virtual samples of size\n",
    "*n* = 600. **Note: BE SURE TO NAME YOUR SAMPLE SOMETHING NEW, TO ENSURE\n",
    "YOU CAN DISTINGUISH IT FROM THE n = 50, and n = 15 SAMPLES ABOVE!**\n",
    "\n",
    "**Answer:**"
   ]
  },
  {
   "cell_type": "code",
   "execution_count": 50,
   "id": "e6adcfba-4a7b-47e6-b0cc-36dc754389f1",
   "metadata": {},
   "outputs": [
    {
     "name": "stdout",
     "output_type": "stream",
     "text": [
      "Rows: 600,000\n",
      "Columns: 2\n",
      "Groups: replicate [1,000]\n",
      "$ replicate \u001b[3m\u001b[90m<int>\u001b[39m\u001b[23m 1, 1, 1, 1, 1, 1, 1, 1, 1, 1, 1, 1, 1, 1, 1, 1, 1, 1, 1, 1, …\n",
      "$ marital   \u001b[3m\u001b[90m<fct>\u001b[39m\u001b[23m Married, Never married, Widowed, Married, Married, Divorced,…\n"
     ]
    }
   ],
   "source": [
    "n600r1000 = gss_14 |> rep_sample_n(size = 600, reps = 1000) |> glimpse()\n"
   ]
  },
  {
   "cell_type": "code",
   "execution_count": 51,
   "id": "814c3363-d874-4707-adc1-7b55528016c3",
   "metadata": {},
   "outputs": [],
   "source": [
    "set.seed(84)"
   ]
  },
  {
   "cell_type": "markdown",
   "id": "0f9684fc-bb77-4e85-bd9c-168d3cd51fc0",
   "metadata": {},
   "source": [
    "## Question 7.b)\n",
    "\n",
    "Calculate the proportion $\\hat{p}$ of people who reported they were\n",
    "`Divorced`for each replicate of your n = 600 sampling\n",
    "\n",
    "**Answer:**"
   ]
  },
  {
   "cell_type": "code",
   "execution_count": 52,
   "id": "ddb49bc8-3bab-420b-8a21-5256a7ec886e",
   "metadata": {},
   "outputs": [
    {
     "name": "stdout",
     "output_type": "stream",
     "text": [
      "Rows: 1,000\n",
      "Columns: 4\n",
      "$ replicate     \u001b[3m\u001b[90m<int>\u001b[39m\u001b[23m 1, 2, 3, 4, 5, 6, 7, 8, 9, 10, 11, 12, 13, 14, 15, 16, 1…\n",
      "$ divorce_count \u001b[3m\u001b[90m<int>\u001b[39m\u001b[23m 90, 95, 86, 98, 106, 104, 91, 92, 108, 90, 97, 101, 95, …\n",
      "$ n             \u001b[3m\u001b[90m<int>\u001b[39m\u001b[23m 600, 600, 600, 600, 600, 600, 600, 600, 600, 600, 600, 6…\n",
      "$ p_hat         \u001b[3m\u001b[90m<dbl>\u001b[39m\u001b[23m 0.1500000, 0.1583333, 0.1433333, 0.1633333, 0.1766667, 0…\n"
     ]
    }
   ],
   "source": [
    "\n",
    "p_hat6005r1000 = n600r1000|> \n",
    "  group_by(replicate) |> \n",
    "  summarize(divorce_count = sum(marital == \"Divorced\"), \n",
    "            n = n()) |> \n",
    "  mutate(p_hat = divorce_count / n) \n",
    "\n",
    "\n",
    "p_hat6005r1000 |> glimpse()\n",
    "\n"
   ]
  },
  {
   "cell_type": "markdown",
   "id": "99da0668-1519-42ef-b0d3-9241ccab475a",
   "metadata": {},
   "source": [
    "## Question 7.c)\n",
    "\n",
    "Calculate the mean of the n = 600 sampling distribution, and the\n",
    "standard error of the n = 600 sampling distribution.\n",
    "\n",
    "**Answer:**"
   ]
  },
  {
   "cell_type": "code",
   "execution_count": 53,
   "id": "18c2d935-914a-4d5c-b5c9-ce3be3c13523",
   "metadata": {},
   "outputs": [
    {
     "data": {
      "text/html": [
       "<table class=\"dataframe\">\n",
       "<caption>A tibble: 1 × 2</caption>\n",
       "<thead>\n",
       "\t<tr><th scope=col>M_p_hat</th><th scope=col>SE_p_hat</th></tr>\n",
       "\t<tr><th scope=col>&lt;dbl&gt;</th><th scope=col>&lt;dbl&gt;</th></tr>\n",
       "</thead>\n",
       "<tbody>\n",
       "\t<tr><td>0.1623983</td><td>0.01379742</td></tr>\n",
       "</tbody>\n",
       "</table>\n"
      ],
      "text/latex": [
       "A tibble: 1 × 2\n",
       "\\begin{tabular}{ll}\n",
       " M\\_p\\_hat & SE\\_p\\_hat\\\\\n",
       " <dbl> & <dbl>\\\\\n",
       "\\hline\n",
       "\t 0.1623983 & 0.01379742\\\\\n",
       "\\end{tabular}\n"
      ],
      "text/markdown": [
       "\n",
       "A tibble: 1 × 2\n",
       "\n",
       "| M_p_hat &lt;dbl&gt; | SE_p_hat &lt;dbl&gt; |\n",
       "|---|---|\n",
       "| 0.1623983 | 0.01379742 |\n",
       "\n"
      ],
      "text/plain": [
       "  M_p_hat   SE_p_hat  \n",
       "1 0.1623983 0.01379742"
      ]
     },
     "metadata": {},
     "output_type": "display_data"
    }
   ],
   "source": [
    "\n",
    "p_hat6005r1000|>\n",
    "  summarize(M_p_hat = mean(p_hat), \n",
    "            SE_p_hat = sd(p_hat))\n"
   ]
  },
  {
   "cell_type": "markdown",
   "id": "7064d4fc-3cf9-4aec-8e36-2defa669e6f5",
   "metadata": {},
   "source": [
    "## Question 7.d)\n",
    "\n",
    "Was there more **variability** from sample to sample when we took a\n",
    "sample size of 600 or when we took a sample size of 50? **Explain what\n",
    "evidence you have for assessing this**\n",
    "\n",
    "**Answer:**"
   ]
  },
  {
   "cell_type": "markdown",
   "id": "0bc84462-278a-4ad9-9060-b16a413d21b1",
   "metadata": {},
   "source": [
    "\n",
    "There is more variablility from samaple to sample when we took a 50 person sample size, as the mean standard error is much lower (by about .04).\n"
   ]
  },
  {
   "cell_type": "markdown",
   "id": "d9f50f9b-5878-4442-b57a-7181b469a9fa",
   "metadata": {},
   "source": [
    "## Question 8\n",
    "\n",
    "Which sampling distribution looked more normally distributed (bell\n",
    "shaped and symmetrical); the one built on n = 15, 50 or 600? **Why?**\n",
    "\n",
    "**Answer:**"
   ]
  },
  {
   "cell_type": "markdown",
   "id": "4146f93c-b2fc-4179-90ab-269c33f4f116",
   "metadata": {},
   "source": [
    "The sampling distribution for n=600 is more normally distributed. This is likely attributed to the high sampling size, as sample proportion becomes more normal as sampling size increases. Addionally, the larger sample size reduced the mean standard error signifcantly, indicating lower variablity between samples, meaning most samples would have a p-hat closer together. "
   ]
  },
  {
   "cell_type": "code",
   "execution_count": 59,
   "id": "eb5babb9-e9db-4b04-aadc-8e4392db90ef",
   "metadata": {},
   "outputs": [
    {
     "data": {
      "image/png": "[encoded data removed]",
      "text/plain": [
       "plot without title"
      ]
     },
     "metadata": {
      "image/png": {
       "height": 500,
       "width": 625
      }
     },
     "output_type": "display_data"
    }
   ],
   "source": [
    "\n",
    "ggplot(p_hat6005r1000, aes(x = p_hat)) +\n",
    "  geom_histogram(binwidth = 0.01, color = \"black\", fill = \"aquamarine3\", boundary=0) +\n",
    "  labs(x = \"Sample proportion of divorced respondents\", \n",
    "       title = \"Sampling distribution of p-hat based on n = 600\") \n"
   ]
  },
  {
   "cell_type": "markdown",
   "id": "24f5fcaa-58bc-4750-9d4a-d78bb9a32081",
   "metadata": {},
   "source": [
    "## Estimating $\\hat{p}$ and the standard error of $\\hat{p}$ from a single sample (revisited)\n",
    "\n",
    "In most instances, we do not have access to the full population as we\n",
    "did in this GSS data; instead we have to take a **sample** to try to say\n",
    "something about the **larger population**. Furthermore, in the real\n",
    "world, we typically only take a **single** sample from the population,\n",
    "due to time or money constraints.\n",
    "\n",
    "So how do we **ESTIMATE** a $\\hat{p}$ and a standard error of $\\hat{p}$\n",
    "when we only have a single sample, and not 1000 repeated samples? As\n",
    "demonstrated at the very beginning of the Problem Set we:\n",
    "\n",
    "-   estimate $\\hat{p}$ from the sample\n",
    "-   use the formula for the standard error of $\\hat{p}$ below, to\n",
    "    estimate SE based on a single sample\n",
    "\n",
    "$$\\widehat{SE}_{\\hat{p}}  \\approx  \\sqrt{\\frac{\\hat{p} \\times (1-\\hat{p})}{n}}$$"
   ]
  },
  {
   "cell_type": "markdown",
   "id": "a8d3eafa-e937-4eaa-8ae9-aa5789941e73",
   "metadata": {},
   "source": [
    "## Question 9\n",
    "\n",
    "Imagined we collected only a single small sample of 15 respondents like\n",
    "so:"
   ]
  },
  {
   "cell_type": "code",
   "execution_count": 66,
   "id": "eb3351fa-86cb-4d7d-8dec-410024102121",
   "metadata": {},
   "outputs": [],
   "source": [
    "set.seed(53)\n",
    "\n",
    "n15_1rep = gss_14 |> \n",
    "  rep_sample_n(size = 15, reps = 1)"
   ]
  },
  {
   "cell_type": "markdown",
   "id": "625d66b9-9b5c-4078-93e0-7bcf622e2c17",
   "metadata": {},
   "source": [
    "Following the example from the beginning of the Problem Set (roughly\n",
    "line 140), estimate\n",
    "\n",
    "1.  The sample proportion $\\hat{p}$ of people who identified as\n",
    "    `Divorced` based on `n15_1rep`.\n",
    "2.  The standard error of $\\hat{p}$"
   ]
  },
  {
   "cell_type": "code",
   "execution_count": 67,
   "id": "63d985bb-c543-4fab-af34-1386256871cc",
   "metadata": {},
   "outputs": [
    {
     "data": {
      "text/html": [
       "<table class=\"dataframe\">\n",
       "<caption>A tibble: 1 × 4</caption>\n",
       "<thead>\n",
       "\t<tr><th scope=col>replicate</th><th scope=col>divorce_count</th><th scope=col>p_hat</th><th scope=col>SE_p_hat</th></tr>\n",
       "\t<tr><th scope=col>&lt;int&gt;</th><th scope=col>&lt;int&gt;</th><th scope=col>&lt;dbl&gt;</th><th scope=col>&lt;dbl&gt;</th></tr>\n",
       "</thead>\n",
       "<tbody>\n",
       "\t<tr><td>1</td><td>4</td><td>0.2666667</td><td>0.1141798</td></tr>\n",
       "</tbody>\n",
       "</table>\n"
      ],
      "text/latex": [
       "A tibble: 1 × 4\n",
       "\\begin{tabular}{llll}\n",
       " replicate & divorce\\_count & p\\_hat & SE\\_p\\_hat\\\\\n",
       " <int> & <int> & <dbl> & <dbl>\\\\\n",
       "\\hline\n",
       "\t 1 & 4 & 0.2666667 & 0.1141798\\\\\n",
       "\\end{tabular}\n"
      ],
      "text/markdown": [
       "\n",
       "A tibble: 1 × 4\n",
       "\n",
       "| replicate &lt;int&gt; | divorce_count &lt;int&gt; | p_hat &lt;dbl&gt; | SE_p_hat &lt;dbl&gt; |\n",
       "|---|---|---|---|\n",
       "| 1 | 4 | 0.2666667 | 0.1141798 |\n",
       "\n"
      ],
      "text/plain": [
       "  replicate divorce_count p_hat     SE_p_hat \n",
       "1 1         4             0.2666667 0.1141798"
      ]
     },
     "metadata": {},
     "output_type": "display_data"
    }
   ],
   "source": [
    "\n",
    "n15_1rep |>\n",
    "  summarize(\n",
    "    divorce_count = sum(marital == \"Divorced\"),\n",
    "    p_hat = divorce_count / n(),\n",
    "    SE_p_hat = sqrt(p_hat * (1 - p_hat) / n())\n",
    "  )\n"
   ]
  },
  {
   "cell_type": "markdown",
   "id": "e0bd2bc3-e824-4d4f-be68-0593bc47a0ac",
   "metadata": {},
   "source": [
    "> You should get a value reasonably close to the estimate we made\n",
    "> earlier from our simulated sampling distribution for n = 15! Note that\n",
    "> when you must estimate a standard error from **only a single sample**,\n",
    "> the formula **contains the sample size, n**. The larger the sample\n",
    "> size n, the larger the number in the denominator of the SE formula.\n",
    "\n",
    "## Question 10\n",
    "\n",
    "Fill in the R Markdown table below with all the standard errors you\n",
    "computed for this problem set. In other words:\n",
    "\n",
    "1.  Replace `x` with the standard error you obtained by taking the\n",
    "    standard deviation of the n = 15 sampling distribution\n",
    "2.  Replace `a` with the standard error you obtained for the single\n",
    "    sample of n = 15 you obtained and using the mathematical formula\n",
    "3.  etc., etc.\n",
    "\n",
    "When you are done, make sure all the `|` in the table still line up so\n",
    "your results print out in a table!\n",
    "\n",
    "| Sample size n | SE via sd of sampling distribution | SE via the one sample you obtained and formula |\n",
    "|-----------------|---------------------------------------|-----------------|\n",
    "| 15            | 0.09409932                                  | 0.1141798                                      \n",
    "| 50            | 0.052215                                  | 0.05184593                                     |"
   ]
  },
  {
   "cell_type": "markdown",
   "id": "542269f6-f0bd-4921-b071-39c410912f5f",
   "metadata": {},
   "source": [
    "## Question 11\n",
    "\n",
    "Based on what you observed for Question 10, **IF** you collected a\n",
    "single sample from 600 respondents, do you think the standard error will\n",
    "be smaller or larger than the one you calculated for n = 15. **Explain\n",
    "your reasoning** (Note: if you are not sure you can collect a sample and\n",
    "calculate the standard error)\n",
    "\n",
    "**Answer:**"
   ]
  },
  {
   "cell_type": "markdown",
   "id": "7cedb939-a2ec-4e6e-a49d-231bf6e82c70",
   "metadata": {
    "tags": []
   },
   "source": [
    "I feel that the standard error should be lower for the n=600 sample because the variablity would be much lower. "
   ]
  },
  {
   "cell_type": "code",
   "execution_count": null,
   "id": "241a9814-8c36-4b0c-b8ec-01233e7506b9",
   "metadata": {},
   "outputs": [],
   "source": []
  }
 ],
 "metadata": {
  "kernelspec": {
   "display_name": ".conda-data730-lecture:R",
   "language": "R",
   "name": "conda-env-.conda-data730-lecture-r"
  },
  "language_info": {
   "codemirror_mode": "r",
   "file_extension": ".r",
   "mimetype": "text/x-r-source",
   "name": "R",
   "pygments_lexer": "r",
   "version": "4.3.3"
  }
 },
 "nbformat": 4,
 "nbformat_minor": 5
}
